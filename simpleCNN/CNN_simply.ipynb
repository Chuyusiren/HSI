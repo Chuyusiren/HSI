{
 "cells": [
  {
   "cell_type": "code",
   "execution_count": 1,
   "metadata": {},
   "outputs": [],
   "source": [
    "import torch\n",
    "from torchvision import transforms\n",
    "from torchvision import datasets\n",
    "from torch.utils.data import  DataLoader\n",
    "import torch.nn.functional as F #使用functional中的ReLu激活函数\n",
    "import torch.optim as optim\n",
    "\n",
    "#数据的准备\n",
    "batch_size = 64\n",
    "#神经网络希望输入的数值较小，最好在0-1之间，所以需要先将原始图像(0-255的灰度值)转化为图像张量（值为0-1）\n",
    "#仅有灰度值->单通道   RGB -> 三通道 读入的图像张量一般为W*H*C (宽、高、通道数) 在pytorch中要转化为C*W*H\n",
    "transform = transforms.Compose([\n",
    "    #将数据转化为图像张量\n",
    "    transforms.ToTensor(),\n",
    "    #进行归一化处理，切换到0-1分布 （均值， 标准差）\n",
    "    transforms.Normalize((0.1307, ), (0.3081, ))\n",
    "])\n",
    "\n",
    "train_dataset = datasets.MNIST(root='../dataset/mnist/',\n",
    "                               train=True,\n",
    "                               download=True,\n",
    "                               transform=transform\n",
    "                               )\n",
    "train_loader = DataLoader(train_dataset,\n",
    "                          shuffle=True,\n",
    "                          batch_size=batch_size\n",
    "                          )\n",
    "test_dataset = datasets.MNIST(root='../dataset/mnist/',\n",
    "                               train=False,\n",
    "                               download=True,\n",
    "                               transform=transform\n",
    "                               )\n",
    "test_loader = DataLoader(test_dataset,\n",
    "                          shuffle=False,\n",
    "                          batch_size=batch_size\n",
    "                          )"
   ]
  },
  {
   "cell_type": "code",
   "execution_count": 2,
   "metadata": {},
   "outputs": [
    {
     "name": "stdout",
     "output_type": "stream",
     "text": [
      "cuda:0\n"
     ]
    }
   ],
   "source": [
    "#CNN模型\n",
    "class Net(torch.nn.Module):\n",
    "    def __init__(self):\n",
    "        super(Net, self).__init__()\n",
    "        #两个卷积层\n",
    "        self.conv1 = torch.nn.Conv2d(1, 10, kernel_size=5)  #1为in_channels 10为out_channels\n",
    "        self.conv2 = torch.nn.Conv2d(10, 20, kernel_size=5)\n",
    "        #池化层\n",
    "        self.pooling = torch.nn.MaxPool2d(2)  #2为分组大小2*2\n",
    "        #全连接层 320 = 20 * 4 * 4\n",
    "        self.fc = torch.nn.Linear(320, 10)\n",
    "\n",
    "    def forward(self, x):\n",
    "        #先从x数据维度中得到batch_size\n",
    "        batch_size = x.size(0)\n",
    "        #卷积层->池化层->激活函数\n",
    "        x = F.relu(self.pooling(self.conv1(x)))\n",
    "        x = F.relu(self.pooling(self.conv2(x)))\n",
    "        x = x.view(batch_size, -1)  #将数据展开，为输入全连接层做准备\n",
    "        x = self.fc(x)\n",
    "        return x\n",
    "model = Net()\n",
    "#在这里加入两行代码，将数据送入GPU中计算！！！\n",
    "device = torch.device(\"cuda:0\" if torch.cuda.is_available() else \"cpu\")\n",
    "print(device)\n",
    "model.to(device)  #将模型的所有内容放入cuda中\n",
    "\n",
    "#设置损失函数和优化器\n",
    "criterion = torch.nn.CrossEntropyLoss()\n",
    "#神经网络已经逐渐变大，需要设置冲量momentum=0.5\n",
    "optimizer = optim.SGD(model.parameters(), lr=0.01, momentum=0.5)\n"
   ]
  },
  {
   "cell_type": "code",
   "execution_count": 3,
   "metadata": {},
   "outputs": [],
   "source": [
    "#训练\n",
    "#将一次迭代封装入函数中\n",
    "def train(epoch):\n",
    "    running_loss = 0.0\n",
    "    for batch_idx, data in enumerate(train_loader, 0):   #在这里data返回输入:inputs、输出target\n",
    "        inputs, target = data\n",
    "        #在这里加入一行代码，将数据送入GPU中计算！！！\n",
    "        inputs, target = inputs.to(device), target.to(device)\n",
    "\n",
    "        optimizer.zero_grad()\n",
    "\n",
    "        #前向 + 反向 + 更新\n",
    "        outputs = model(inputs)\n",
    "        loss = criterion(outputs, target)\n",
    "        loss.backward()\n",
    "        optimizer.step()\n",
    "\n",
    "        running_loss += loss.item()\n",
    "        if batch_idx % 300 == 299:\n",
    "            print('[%d, %5d] loss: %.3f' % (epoch + 1, batch_idx + 1, running_loss / 300))"
   ]
  },
  {
   "cell_type": "code",
   "execution_count": 4,
   "metadata": {},
   "outputs": [],
   "source": [
    "def test():\n",
    "    correct = 0\n",
    "    total = 0\n",
    "    with torch.no_grad():  #不需要计算梯度\n",
    "        for data in test_loader:   #遍历数据集中的每一个batch\n",
    "            images, labels = data  #保存测试的输入和输出\n",
    "            #在这里加入一行代码将数据送入GPU\n",
    "            images, labels = images.to(device), labels.to(device)\n",
    "            outputs = model(images)#得到预测输出\n",
    "            _, predicted = torch.max(outputs.data, dim=1) #dim=1沿着索引为1的维度(行)\n",
    "            total += labels.size(0)\n",
    "            correct += (predicted == labels).sum().item()\n",
    "    print('Accuracy on test set:%d %%' % (100 * correct / total))\n"
   ]
  },
  {
   "cell_type": "code",
   "execution_count": 5,
   "metadata": {},
   "outputs": [
    {
     "name": "stdout",
     "output_type": "stream",
     "text": [
      "[1,   300] loss: 0.607\n",
      "[1,   600] loss: 0.807\n",
      "[1,   900] loss: 0.955\n",
      "Accuracy on test set:97 %\n",
      "[2,   300] loss: 0.112\n",
      "[2,   600] loss: 0.212\n",
      "[2,   900] loss: 0.307\n",
      "Accuracy on test set:97 %\n",
      "[3,   300] loss: 0.082\n",
      "[3,   600] loss: 0.161\n",
      "[3,   900] loss: 0.237\n",
      "Accuracy on test set:98 %\n",
      "[4,   300] loss: 0.063\n",
      "[4,   600] loss: 0.136\n",
      "[4,   900] loss: 0.197\n",
      "Accuracy on test set:98 %\n",
      "[5,   300] loss: 0.059\n",
      "[5,   600] loss: 0.119\n",
      "[5,   900] loss: 0.176\n",
      "Accuracy on test set:98 %\n",
      "[6,   300] loss: 0.051\n",
      "[6,   600] loss: 0.106\n",
      "[6,   900] loss: 0.157\n",
      "Accuracy on test set:98 %\n",
      "[7,   300] loss: 0.049\n",
      "[7,   600] loss: 0.097\n",
      "[7,   900] loss: 0.145\n",
      "Accuracy on test set:98 %\n",
      "[8,   300] loss: 0.045\n",
      "[8,   600] loss: 0.089\n",
      "[8,   900] loss: 0.133\n",
      "Accuracy on test set:98 %\n",
      "[9,   300] loss: 0.041\n",
      "[9,   600] loss: 0.082\n",
      "[9,   900] loss: 0.121\n",
      "Accuracy on test set:98 %\n",
      "[10,   300] loss: 0.037\n",
      "[10,   600] loss: 0.077\n",
      "[10,   900] loss: 0.115\n",
      "Accuracy on test set:98 %\n"
     ]
    }
   ],
   "source": [
    "if __name__ == '__main__':\n",
    "    for epoch in range(10):\n",
    "        train(epoch)\n",
    "        test()"
   ]
  }
 ],
 "metadata": {
  "kernelspec": {
   "display_name": "base",
   "language": "python",
   "name": "python3"
  },
  "language_info": {
   "codemirror_mode": {
    "name": "ipython",
    "version": 3
   },
   "file_extension": ".py",
   "mimetype": "text/x-python",
   "name": "python",
   "nbconvert_exporter": "python",
   "pygments_lexer": "ipython3",
   "version": "3.9.13"
  },
  "orig_nbformat": 4
 },
 "nbformat": 4,
 "nbformat_minor": 2
}
